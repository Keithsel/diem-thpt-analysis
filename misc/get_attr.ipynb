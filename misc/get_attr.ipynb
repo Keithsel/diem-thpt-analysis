{
 "cells": [
  {
   "cell_type": "code",
   "execution_count": 8,
   "metadata": {},
   "outputs": [],
   "source": [
    "import requests\n",
    "import ssl\n",
    "from requests.adapters import HTTPAdapter\n",
    "from bs4 import BeautifulSoup\n",
    "import json"
   ]
  },
  {
   "cell_type": "code",
   "execution_count": 9,
   "metadata": {},
   "outputs": [],
   "source": [
    "class SSLAdapter(HTTPAdapter):\n",
    "    def init_poolmanager(self, *args, **kwargs):\n",
    "        ctx = ssl.create_default_context(ssl.Purpose.SERVER_AUTH)\n",
    "        ctx.options |= 0x4  # ssl.OP_LEGACY_SERVER_CONNECT\n",
    "        kwargs['ssl_context'] = ctx\n",
    "        return super(SSLAdapter, self).init_poolmanager(*args, **kwargs)"
   ]
  },
  {
   "cell_type": "code",
   "execution_count": 10,
   "metadata": {},
   "outputs": [],
   "source": [
    "headers = {\n",
    "    \"Accept\": \"application/json, text/javascript, */*; q=0.01\",\n",
    "    \"Accept-Encoding\": \"gzip, deflate, br, zstd\",\n",
    "    \"Accept-Language\": \"en-GB,en;q=0.9,en-US;q=0.8\",\n",
    "    \"Cache-Control\": \"no-cache\",\n",
    "    \"Connection\": \"keep-alive\",\n",
    "    \"Host\": \"diemthi.vnanet.vn\",\n",
    "    \"Pragma\": \"no-cache\",\n",
    "    \"Referer\": \"https://diemthi.vnanet.vn/diem-thi/2021\",\n",
    "    \"Sec-Fetch-Dest\": \"empty\",\n",
    "    \"Sec-Fetch-Mode\": \"cors\",\n",
    "    \"Sec-Fetch-Site\": \"same-origin\",\n",
    "    \"User-Agent\": \"Mozilla/5.0 (X11; Linux x86_64) AppleWebKit/537.36 (KHTML, like Gecko) Chrome/127.0.0.0 Safari/537.36 Edg/127.0.0.0\",\n",
    "    \"X-Requested-With\": \"XMLHttpRequest\",\n",
    "    \"sec-ch-ua\": '\"Not)A;Brand\";v=\"99\", \"Microsoft Edge\";v=\"127\", \"Chromium\";v=\"127\"',\n",
    "    \"sec-ch-ua-mobile\": \"?0\",\n",
    "    \"sec-ch-ua-platform\": '\"Linux\"'\n",
    "}\n",
    "\n",
    "session = requests.Session()\n",
    "session.mount(\"https://\", SSLAdapter())"
   ]
  },
  {
   "cell_type": "code",
   "execution_count": 11,
   "metadata": {},
   "outputs": [],
   "source": [
    "url = \"https://diemthi.vnanet.vn/diem-thi/2024\"\n",
    "\n",
    "response = session.get(url, headers=headers)\n",
    "\n",
    "soup = BeautifulSoup(response.text, 'html.parser')\n",
    "\n",
    "with open('diemthi.html', 'w', encoding='utf-8') as f:\n",
    "    f.write(soup.prettify())\n",
    "\n",
    "location_codes = soup.find('select', id='listCity')\n",
    "subjects = soup.find('select', id='listSubject')\n",
    "\n",
    "location_code_options = location_codes.find_all('option') if location_codes else []\n",
    "subject_options = subjects.find_all('option') if subjects else []\n",
    "\n",
    "location_code_dict = {option['value']: option.text.strip() for option in location_code_options}\n",
    "subject_dict = {option['value']: option.text.strip() for option in subject_options}\n",
    "\n",
    "location_code_dict.pop(\"00\", None)\n",
    "location_code_dict.pop(\"65\", None)\n",
    "location_code_dict = {key: value.split('Sở GDĐT ')[-1] for key, value in location_code_dict.items()}\n",
    "location_code_dict[\"60\"] = location_code_dict[\"60\"].split('Sở GD KHCN ')[-1]\n",
    "\n",
    "location_code_json = json.dumps(location_code_dict, ensure_ascii=False, indent=4)\n",
    "subject_json = json.dumps(subject_dict, ensure_ascii=False, indent=4)"
   ]
  },
  {
   "cell_type": "code",
   "execution_count": 12,
   "metadata": {},
   "outputs": [
    {
     "name": "stdout",
     "output_type": "stream",
     "text": [
      "{\n",
      "    \"01\": \"Hà Nội\",\n",
      "    \"02\": \"TP. Hồ Chí Minh\",\n",
      "    \"03\": \"Hải Phòng\",\n",
      "    \"04\": \"Đà Nẵng\",\n",
      "    \"05\": \"Hà Giang\",\n",
      "    \"06\": \"Cao Bằng\",\n",
      "    \"07\": \"Lai Châu\",\n",
      "    \"08\": \"Lào Cai\",\n",
      "    \"09\": \"Tuyên Quang\",\n",
      "    \"10\": \"Lạng Sơn\",\n",
      "    \"11\": \"Bắc Kạn\",\n",
      "    \"12\": \"Thái Nguyên\",\n",
      "    \"13\": \"Yên Bái\",\n",
      "    \"14\": \"Sơn La\",\n",
      "    \"15\": \"Phú Thọ\",\n",
      "    \"16\": \"Vĩnh Phúc\",\n",
      "    \"17\": \"Quảng Ninh\",\n",
      "    \"18\": \"Bắc Giang\",\n",
      "    \"19\": \"Bắc Ninh\",\n",
      "    \"21\": \"Hải Dương\",\n",
      "    \"22\": \"Hưng Yên\",\n",
      "    \"23\": \"Hoà Bình\",\n",
      "    \"24\": \"Hà Nam\",\n",
      "    \"25\": \"Nam Định\",\n",
      "    \"26\": \"Thái Bình\",\n",
      "    \"27\": \"Ninh Bình\",\n",
      "    \"28\": \"Thanh Hoá\",\n",
      "    \"29\": \"Nghệ An\",\n",
      "    \"30\": \"Hà Tĩnh\",\n",
      "    \"31\": \"Quảng Bình\",\n",
      "    \"32\": \"Quảng Trị\",\n",
      "    \"33\": \"Thừa Thiên -Huế\",\n",
      "    \"34\": \"Quảng Nam\",\n",
      "    \"35\": \"Quảng Ngãi\",\n",
      "    \"36\": \"Kon Tum\",\n",
      "    \"37\": \"Bình Định\",\n",
      "    \"38\": \"Gia Lai\",\n",
      "    \"39\": \"Phú Yên\",\n",
      "    \"40\": \"Đắk Lắk\",\n",
      "    \"41\": \"Khánh Hoà\",\n",
      "    \"42\": \"Lâm Đồng\",\n",
      "    \"43\": \"Bình Phước\",\n",
      "    \"44\": \"Bình Dương\",\n",
      "    \"45\": \"Ninh Thuận\",\n",
      "    \"46\": \"Tây Ninh\",\n",
      "    \"47\": \"Bình Thuận\",\n",
      "    \"48\": \"Đồng Nai\",\n",
      "    \"49\": \"Long An\",\n",
      "    \"50\": \"Đồng Tháp\",\n",
      "    \"51\": \"An Giang\",\n",
      "    \"52\": \"Bà Rịa-Vũng Tàu\",\n",
      "    \"53\": \"Tiền Giang\",\n",
      "    \"54\": \"Kiên Giang\",\n",
      "    \"55\": \"Cần Thơ\",\n",
      "    \"56\": \"Bến Tre\",\n",
      "    \"57\": \"Vĩnh Long\",\n",
      "    \"58\": \"Trà Vinh\",\n",
      "    \"59\": \"Sóc Trăng\",\n",
      "    \"60\": \"Bạc Liêu\",\n",
      "    \"61\": \"Cà Mau\",\n",
      "    \"62\": \"Điện Biên\",\n",
      "    \"63\": \"Đăk Nông\",\n",
      "    \"64\": \"Hậu Giang\"\n",
      "}\n"
     ]
    }
   ],
   "source": [
    "print(location_code_json)"
   ]
  },
  {
   "cell_type": "code",
   "execution_count": 13,
   "metadata": {},
   "outputs": [
    {
     "name": "stdout",
     "output_type": "stream",
     "text": [
      "{\n",
      "    \"Toan\": \"Toán\",\n",
      "    \"VatLi\": \"Vật lí\",\n",
      "    \"HoaHoc\": \"Hóa\",\n",
      "    \"SinhHoc\": \"Sinh học\",\n",
      "    \"KHTN\": \"KHTN\",\n",
      "    \"NguVan\": \"Ngữ văn\",\n",
      "    \"LichSu\": \"Lịch sử\",\n",
      "    \"DiaLi\": \"Địa lí\",\n",
      "    \"GDCD\": \"GDCD\",\n",
      "    \"KHXH\": \"KHXH\",\n",
      "    \"NgoaiNgu\": \"Ngoại Ngữ\"\n",
      "}\n"
     ]
    }
   ],
   "source": [
    "print(subject_json)"
   ]
  },
  {
   "cell_type": "code",
   "execution_count": 14,
   "metadata": {},
   "outputs": [],
   "source": [
    "with open('misc/location_code.json', 'w', encoding='utf-8') as f:\n",
    "    f.write(location_code_json)\n",
    "\n",
    "with open('misc/subject.json', 'w', encoding='utf-8') as f:\n",
    "    f.write(subject_json)"
   ]
  }
 ],
 "metadata": {
  "kernelspec": {
   "display_name": "dev",
   "language": "python",
   "name": "python3"
  },
  "language_info": {
   "codemirror_mode": {
    "name": "ipython",
    "version": 3
   },
   "file_extension": ".py",
   "mimetype": "text/x-python",
   "name": "python",
   "nbconvert_exporter": "python",
   "pygments_lexer": "ipython3",
   "version": "3.11.9"
  }
 },
 "nbformat": 4,
 "nbformat_minor": 2
}
