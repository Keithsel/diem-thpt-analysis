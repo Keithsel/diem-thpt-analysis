{
 "cells": [
  {
   "cell_type": "code",
   "execution_count": 1,
   "metadata": {},
   "outputs": [],
   "source": [
    "import requests\n",
    "import ssl\n",
    "from requests.adapters import HTTPAdapter\n",
    "from bs4 import BeautifulSoup\n",
    "import json"
   ]
  },
  {
   "cell_type": "code",
   "execution_count": 2,
   "metadata": {},
   "outputs": [],
   "source": [
    "class SSLAdapter(HTTPAdapter):\n",
    "    def init_poolmanager(self, *args, **kwargs):\n",
    "        ctx = ssl.create_default_context(ssl.Purpose.SERVER_AUTH)\n",
    "        ctx.options |= 0x4  # SSL_OP_LEGACY_SERVER_CONNECT\n",
    "        kwargs['ssl_context'] = ctx\n",
    "        return super(SSLAdapter, self).init_poolmanager(*args, **kwargs)"
   ]
  },
  {
   "cell_type": "code",
   "execution_count": 3,
   "metadata": {},
   "outputs": [],
   "source": [
    "headers = {\n",
    "    \"Accept\": \"application/json, text/javascript, */*; q=0.01\",\n",
    "    \"Accept-Encoding\": \"gzip, deflate, br, zstd\",\n",
    "    \"Accept-Language\": \"en-GB,en;q=0.9,en-US;q=0.8\",\n",
    "    \"Cache-Control\": \"no-cache\",\n",
    "    \"Connection\": \"keep-alive\",\n",
    "    \"Host\": \"diemthi.vnanet.vn\",\n",
    "    \"Pragma\": \"no-cache\",\n",
    "    \"Referer\": \"https://diemthi.vnanet.vn/diem-thi/2021\",\n",
    "    \"Sec-Fetch-Dest\": \"empty\",\n",
    "    \"Sec-Fetch-Mode\": \"cors\",\n",
    "    \"Sec-Fetch-Site\": \"same-origin\",\n",
    "    \"User-Agent\": \"Mozilla/5.0 (X11; Linux x86_64) AppleWebKit/537.36 (KHTML, like Gecko) Chrome/127.0.0.0 Safari/537.36 Edg/127.0.0.0\",\n",
    "    \"X-Requested-With\": \"XMLHttpRequest\",\n",
    "    \"sec-ch-ua\": '\"Not)A;Brand\";v=\"99\", \"Microsoft Edge\";v=\"127\", \"Chromium\";v=\"127\"',\n",
    "    \"sec-ch-ua-mobile\": \"?0\",\n",
    "    \"sec-ch-ua-platform\": '\"Linux\"'\n",
    "}\n",
    "\n",
    "session = requests.Session()\n",
    "session.mount(\"https://\", SSLAdapter())"
   ]
  },
  {
   "cell_type": "code",
   "execution_count": 4,
   "metadata": {},
   "outputs": [],
   "source": [
    "params = {\n",
    "    \"code\": \"05000325\",\n",
    "    \"nam\": \"2021\"\n",
    "}"
   ]
  },
  {
   "cell_type": "code",
   "execution_count": 10,
   "metadata": {},
   "outputs": [
    {
     "name": "stdout",
     "output_type": "stream",
     "text": [
      "200 OK\n",
      "Result: b'{\"result\":[{\"CityCode\":\"05\",\"CityArea\":null,\"Code\":\"05000325\",\"Toan\":\"8.80\",\"NguVan\":\"8.00\",\"NgoaiNgu\":\"9.00\",\"VatLi\":\"7.00\",\"HoaHoc\":\"8.50\",\"SinhHoc\":\"8.75\",\"KHTN\":\"8.08\",\"DiaLi\":\"\",\"LichSu\":\"\",\"GDCD\":\"\",\"KHXH\":\"\",\"ResultGroup\":\"[{\\\\\"g\\\\\":\\\\\"A00\\\\\",\\\\\"p\\\\\":24.30},{\\\\\"g\\\\\":\\\\\"A01\\\\\",\\\\\"p\\\\\":24.80},{\\\\\"g\\\\\":\\\\\"A02\\\\\",\\\\\"p\\\\\":24.55},{\\\\\"g\\\\\":\\\\\"A16\\\\\",\\\\\"p\\\\\":24.85},{\\\\\"g\\\\\":\\\\\"B00\\\\\",\\\\\"p\\\\\":26.05},{\\\\\"g\\\\\":\\\\\"B03\\\\\",\\\\\"p\\\\\":25.55},{\\\\\"g\\\\\":\\\\\"B08\\\\\",\\\\\"p\\\\\":26.55},{\\\\\"g\\\\\":\\\\\"C01\\\\\",\\\\\"p\\\\\":23.80},{\\\\\"g\\\\\":\\\\\"C02\\\\\",\\\\\"p\\\\\":25.30},{\\\\\"g\\\\\":\\\\\"C05\\\\\",\\\\\"p\\\\\":23.50},{\\\\\"g\\\\\":\\\\\"C06\\\\\",\\\\\"p\\\\\":23.75},{\\\\\"g\\\\\":\\\\\"C08\\\\\",\\\\\"p\\\\\":25.25},{\\\\\"g\\\\\":\\\\\"D01\\\\\",\\\\\"p\\\\\":25.80},{\\\\\"g\\\\\":\\\\\"D07\\\\\",\\\\\"p\\\\\":26.30},{\\\\\"g\\\\\":\\\\\"D08\\\\\",\\\\\"p\\\\\":26.55},{\\\\\"g\\\\\":\\\\\"D11\\\\\",\\\\\"p\\\\\":24.00},{\\\\\"g\\\\\":\\\\\"D12\\\\\",\\\\\"p\\\\\":25.50},{\\\\\"g\\\\\":\\\\\"D13\\\\\",\\\\\"p\\\\\":25.75},{\\\\\"g\\\\\":\\\\\"D72\\\\\",\\\\\"p\\\\\":25.05},{\\\\\"g\\\\\":\\\\\"D90\\\\\",\\\\\"p\\\\\":25.85}]\",\"Result\":\"\"}]}'\n"
     ]
    }
   ],
   "source": [
    "url = \"https://diemthi.vnanet.vn/Home/SearchBySobaodanh\"\n",
    "response = session.get(url, headers=headers, params=params)\n",
    "print(f\"{str(response.status_code) + ' OK' if response.ok else ' ERROR'}\")\n",
    "print(f\"Result: {response.content}\")"
   ]
  }
 ],
 "metadata": {
  "kernelspec": {
   "display_name": "dev",
   "language": "python",
   "name": "python3"
  },
  "language_info": {
   "codemirror_mode": {
    "name": "ipython",
    "version": 3
   },
   "file_extension": ".py",
   "mimetype": "text/x-python",
   "name": "python",
   "nbconvert_exporter": "python",
   "pygments_lexer": "ipython3",
   "version": "3.11.9"
  }
 },
 "nbformat": 4,
 "nbformat_minor": 2
}
