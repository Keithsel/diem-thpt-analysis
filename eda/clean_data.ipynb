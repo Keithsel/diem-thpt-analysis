{
 "cells": [
  {
   "cell_type": "code",
   "execution_count": 1,
   "metadata": {},
   "outputs": [],
   "source": [
    "import polars as pl\n",
    "import numpy as np\n",
    "import sys, os\n",
    "\n",
    "this_path = '/home/ibi/Documents/GitHub/diem-thpt-analysis'\n",
    "sys.path.append(this_path)\n",
    "os.chdir(this_path)"
   ]
  },
  {
   "cell_type": "code",
   "execution_count": 2,
   "metadata": {},
   "outputs": [
    {
     "data": {
      "text/plain": [
       "['2018.csv',\n",
       " '2021.csv',\n",
       " '2020.csv',\n",
       " '2019.csv',\n",
       " '2022.csv',\n",
       " '2023.csv',\n",
       " '2024.csv']"
      ]
     },
     "execution_count": 2,
     "metadata": {},
     "output_type": "execute_result"
    }
   ],
   "source": [
    "files = os.listdir('data/raw')\n",
    "files"
   ]
  },
  {
   "cell_type": "code",
   "execution_count": 3,
   "metadata": {},
   "outputs": [],
   "source": [
    "def read_and_add_year(file):\n",
    "    year = file.split('_')[0][:-4]\n",
    "    df = pl.read_csv(f'data/raw/{file}')\n",
    "    year_col = pl.Series('Year', [year]*df.height)\n",
    "    df = df.insert_column(0, year_col)\n",
    "\n",
    "    return df"
   ]
  },
  {
   "cell_type": "code",
   "execution_count": 4,
   "metadata": {},
   "outputs": [],
   "source": [
    "def process_dtype(df):\n",
    "    i64_cols = ['Year', 'CityCode', 'StudentID']\n",
    "    for col in i64_cols:\n",
    "        df = df.with_columns(pl.col(col).cast(pl.Int64))\n",
    "    for col in df.columns[3:]:\n",
    "        df = df.with_columns(pl.col(col).cast(pl.Float64))\n",
    "        df = df.with_columns(pl.col(col).replace(-1, np.nan))\n",
    "\n",
    "    return df"
   ]
  },
  {
   "cell_type": "code",
   "execution_count": 5,
   "metadata": {},
   "outputs": [
    {
     "data": {
      "text/html": [
       "<div><style>\n",
       ".dataframe > thead > tr,\n",
       ".dataframe > tbody > tr {\n",
       "  text-align: right;\n",
       "  white-space: pre-wrap;\n",
       "}\n",
       "</style>\n",
       "<small>shape: (6_765_441, 14)</small><table border=\"1\" class=\"dataframe\"><thead><tr><th>Year</th><th>CityCode</th><th>StudentID</th><th>Toan</th><th>NguVan</th><th>NgoaiNgu</th><th>VatLi</th><th>HoaHoc</th><th>SinhHoc</th><th>KHTN</th><th>DiaLi</th><th>LichSu</th><th>GDCD</th><th>KHXH</th></tr><tr><td>i64</td><td>i64</td><td>i64</td><td>f64</td><td>f64</td><td>f64</td><td>f64</td><td>f64</td><td>f64</td><td>f64</td><td>f64</td><td>f64</td><td>f64</td><td>f64</td></tr></thead><tbody><tr><td>2018</td><td>1</td><td>1000033</td><td>7.6</td><td>8.25</td><td>7.0</td><td>null</td><td>null</td><td>null</td><td>null</td><td>7.25</td><td>4.25</td><td>7.75</td><td>6.42</td></tr><tr><td>2018</td><td>1</td><td>1000034</td><td>6.2</td><td>6.25</td><td>9.2</td><td>null</td><td>null</td><td>null</td><td>null</td><td>7.0</td><td>5.25</td><td>8.5</td><td>6.92</td></tr><tr><td>2018</td><td>1</td><td>1000035</td><td>6.4</td><td>7.25</td><td>6.6</td><td>null</td><td>null</td><td>null</td><td>null</td><td>5.0</td><td>3.75</td><td>7.25</td><td>5.33</td></tr><tr><td>2018</td><td>1</td><td>1000037</td><td>2.8</td><td>7.0</td><td>4.2</td><td>null</td><td>null</td><td>null</td><td>null</td><td>3.5</td><td>3.5</td><td>7.25</td><td>4.75</td></tr><tr><td>2018</td><td>1</td><td>1000038</td><td>4.0</td><td>6.5</td><td>4.8</td><td>null</td><td>null</td><td>null</td><td>null</td><td>6.25</td><td>3.25</td><td>7.0</td><td>5.5</td></tr><tr><td>&hellip;</td><td>&hellip;</td><td>&hellip;</td><td>&hellip;</td><td>&hellip;</td><td>&hellip;</td><td>&hellip;</td><td>&hellip;</td><td>&hellip;</td><td>&hellip;</td><td>&hellip;</td><td>&hellip;</td><td>&hellip;</td><td>&hellip;</td></tr><tr><td>2024</td><td>64</td><td>64006675</td><td>8.2</td><td>8.25</td><td>7.0</td><td>9.25</td><td>8.5</td><td>6.0</td><td>7.916667</td><td>NaN</td><td>NaN</td><td>NaN</td><td>NaN</td></tr><tr><td>2024</td><td>64</td><td>64006673</td><td>4.8</td><td>7.0</td><td>NaN</td><td>NaN</td><td>NaN</td><td>NaN</td><td>NaN</td><td>7.25</td><td>6.5</td><td>NaN</td><td>6.875</td></tr><tr><td>2024</td><td>64</td><td>64006674</td><td>5.8</td><td>8.25</td><td>4.0</td><td>6.75</td><td>5.75</td><td>4.25</td><td>5.583333</td><td>NaN</td><td>NaN</td><td>NaN</td><td>NaN</td></tr><tr><td>2024</td><td>64</td><td>64006679</td><td>6.0</td><td>7.08</td><td>4.0</td><td>NaN</td><td>NaN</td><td>NaN</td><td>NaN</td><td>6.0</td><td>5.0</td><td>7.5</td><td>6.166667</td></tr><tr><td>2024</td><td>64</td><td>64006676</td><td>NaN</td><td>6.5</td><td>NaN</td><td>NaN</td><td>NaN</td><td>NaN</td><td>NaN</td><td>7.25</td><td>6.75</td><td>NaN</td><td>7.0</td></tr></tbody></table></div>"
      ],
      "text/plain": [
       "shape: (6_765_441, 14)\n",
       "┌──────┬──────────┬───────────┬──────┬───┬───────┬────────┬──────┬──────────┐\n",
       "│ Year ┆ CityCode ┆ StudentID ┆ Toan ┆ … ┆ DiaLi ┆ LichSu ┆ GDCD ┆ KHXH     │\n",
       "│ ---  ┆ ---      ┆ ---       ┆ ---  ┆   ┆ ---   ┆ ---    ┆ ---  ┆ ---      │\n",
       "│ i64  ┆ i64      ┆ i64       ┆ f64  ┆   ┆ f64   ┆ f64    ┆ f64  ┆ f64      │\n",
       "╞══════╪══════════╪═══════════╪══════╪═══╪═══════╪════════╪══════╪══════════╡\n",
       "│ 2018 ┆ 1        ┆ 1000033   ┆ 7.6  ┆ … ┆ 7.25  ┆ 4.25   ┆ 7.75 ┆ 6.42     │\n",
       "│ 2018 ┆ 1        ┆ 1000034   ┆ 6.2  ┆ … ┆ 7.0   ┆ 5.25   ┆ 8.5  ┆ 6.92     │\n",
       "│ 2018 ┆ 1        ┆ 1000035   ┆ 6.4  ┆ … ┆ 5.0   ┆ 3.75   ┆ 7.25 ┆ 5.33     │\n",
       "│ 2018 ┆ 1        ┆ 1000037   ┆ 2.8  ┆ … ┆ 3.5   ┆ 3.5    ┆ 7.25 ┆ 4.75     │\n",
       "│ 2018 ┆ 1        ┆ 1000038   ┆ 4.0  ┆ … ┆ 6.25  ┆ 3.25   ┆ 7.0  ┆ 5.5      │\n",
       "│ …    ┆ …        ┆ …         ┆ …    ┆ … ┆ …     ┆ …      ┆ …    ┆ …        │\n",
       "│ 2024 ┆ 64       ┆ 64006675  ┆ 8.2  ┆ … ┆ NaN   ┆ NaN    ┆ NaN  ┆ NaN      │\n",
       "│ 2024 ┆ 64       ┆ 64006673  ┆ 4.8  ┆ … ┆ 7.25  ┆ 6.5    ┆ NaN  ┆ 6.875    │\n",
       "│ 2024 ┆ 64       ┆ 64006674  ┆ 5.8  ┆ … ┆ NaN   ┆ NaN    ┆ NaN  ┆ NaN      │\n",
       "│ 2024 ┆ 64       ┆ 64006679  ┆ 6.0  ┆ … ┆ 6.0   ┆ 5.0    ┆ 7.5  ┆ 6.166667 │\n",
       "│ 2024 ┆ 64       ┆ 64006676  ┆ NaN  ┆ … ┆ 7.25  ┆ 6.75   ┆ NaN  ┆ 7.0      │\n",
       "└──────┴──────────┴───────────┴──────┴───┴───────┴────────┴──────┴──────────┘"
      ]
     },
     "execution_count": 5,
     "metadata": {},
     "output_type": "execute_result"
    }
   ],
   "source": [
    "dfs = [process_dtype(read_and_add_year(file)) for file in files]\n",
    "df = pl.concat(dfs)\n",
    "df"
   ]
  },
  {
   "cell_type": "code",
   "execution_count": 6,
   "metadata": {},
   "outputs": [
    {
     "data": {
      "text/html": [
       "<div><style>\n",
       ".dataframe > thead > tr,\n",
       ".dataframe > tbody > tr {\n",
       "  text-align: right;\n",
       "  white-space: pre-wrap;\n",
       "}\n",
       "</style>\n",
       "<small>shape: (6_765_441, 14)</small><table border=\"1\" class=\"dataframe\"><thead><tr><th>Year</th><th>CityCode</th><th>StudentID</th><th>Toan</th><th>NguVan</th><th>NgoaiNgu</th><th>VatLi</th><th>HoaHoc</th><th>SinhHoc</th><th>KHTN</th><th>DiaLi</th><th>LichSu</th><th>GDCD</th><th>KHXH</th></tr><tr><td>f64</td><td>f64</td><td>f64</td><td>f64</td><td>f64</td><td>f64</td><td>f64</td><td>f64</td><td>f64</td><td>f64</td><td>f64</td><td>f64</td><td>f64</td><td>f64</td></tr></thead><tbody><tr><td>2018.0</td><td>1.0</td><td>1.000033e6</td><td>7.6</td><td>8.25</td><td>7.0</td><td>NaN</td><td>NaN</td><td>NaN</td><td>NaN</td><td>7.25</td><td>4.25</td><td>7.75</td><td>6.42</td></tr><tr><td>2018.0</td><td>1.0</td><td>1.000034e6</td><td>6.2</td><td>6.25</td><td>9.2</td><td>NaN</td><td>NaN</td><td>NaN</td><td>NaN</td><td>7.0</td><td>5.25</td><td>8.5</td><td>6.92</td></tr><tr><td>2018.0</td><td>1.0</td><td>1.000035e6</td><td>6.4</td><td>7.25</td><td>6.6</td><td>NaN</td><td>NaN</td><td>NaN</td><td>NaN</td><td>5.0</td><td>3.75</td><td>7.25</td><td>5.33</td></tr><tr><td>2018.0</td><td>1.0</td><td>1.000037e6</td><td>2.8</td><td>7.0</td><td>4.2</td><td>NaN</td><td>NaN</td><td>NaN</td><td>NaN</td><td>3.5</td><td>3.5</td><td>7.25</td><td>4.75</td></tr><tr><td>2018.0</td><td>1.0</td><td>1.000038e6</td><td>4.0</td><td>6.5</td><td>4.8</td><td>NaN</td><td>NaN</td><td>NaN</td><td>NaN</td><td>6.25</td><td>3.25</td><td>7.0</td><td>5.5</td></tr><tr><td>&hellip;</td><td>&hellip;</td><td>&hellip;</td><td>&hellip;</td><td>&hellip;</td><td>&hellip;</td><td>&hellip;</td><td>&hellip;</td><td>&hellip;</td><td>&hellip;</td><td>&hellip;</td><td>&hellip;</td><td>&hellip;</td><td>&hellip;</td></tr><tr><td>2024.0</td><td>64.0</td><td>6.4006675e7</td><td>8.2</td><td>8.25</td><td>7.0</td><td>9.25</td><td>8.5</td><td>6.0</td><td>7.916667</td><td>NaN</td><td>NaN</td><td>NaN</td><td>NaN</td></tr><tr><td>2024.0</td><td>64.0</td><td>6.4006673e7</td><td>4.8</td><td>7.0</td><td>NaN</td><td>NaN</td><td>NaN</td><td>NaN</td><td>NaN</td><td>7.25</td><td>6.5</td><td>NaN</td><td>6.875</td></tr><tr><td>2024.0</td><td>64.0</td><td>6.4006674e7</td><td>5.8</td><td>8.25</td><td>4.0</td><td>6.75</td><td>5.75</td><td>4.25</td><td>5.583333</td><td>NaN</td><td>NaN</td><td>NaN</td><td>NaN</td></tr><tr><td>2024.0</td><td>64.0</td><td>6.4006679e7</td><td>6.0</td><td>7.08</td><td>4.0</td><td>NaN</td><td>NaN</td><td>NaN</td><td>NaN</td><td>6.0</td><td>5.0</td><td>7.5</td><td>6.166667</td></tr><tr><td>2024.0</td><td>64.0</td><td>6.4006676e7</td><td>NaN</td><td>6.5</td><td>NaN</td><td>NaN</td><td>NaN</td><td>NaN</td><td>NaN</td><td>7.25</td><td>6.75</td><td>NaN</td><td>7.0</td></tr></tbody></table></div>"
      ],
      "text/plain": [
       "shape: (6_765_441, 14)\n",
       "┌────────┬──────────┬─────────────┬──────┬───┬───────┬────────┬──────┬──────────┐\n",
       "│ Year   ┆ CityCode ┆ StudentID   ┆ Toan ┆ … ┆ DiaLi ┆ LichSu ┆ GDCD ┆ KHXH     │\n",
       "│ ---    ┆ ---      ┆ ---         ┆ ---  ┆   ┆ ---   ┆ ---    ┆ ---  ┆ ---      │\n",
       "│ f64    ┆ f64      ┆ f64         ┆ f64  ┆   ┆ f64   ┆ f64    ┆ f64  ┆ f64      │\n",
       "╞════════╪══════════╪═════════════╪══════╪═══╪═══════╪════════╪══════╪══════════╡\n",
       "│ 2018.0 ┆ 1.0      ┆ 1.000033e6  ┆ 7.6  ┆ … ┆ 7.25  ┆ 4.25   ┆ 7.75 ┆ 6.42     │\n",
       "│ 2018.0 ┆ 1.0      ┆ 1.000034e6  ┆ 6.2  ┆ … ┆ 7.0   ┆ 5.25   ┆ 8.5  ┆ 6.92     │\n",
       "│ 2018.0 ┆ 1.0      ┆ 1.000035e6  ┆ 6.4  ┆ … ┆ 5.0   ┆ 3.75   ┆ 7.25 ┆ 5.33     │\n",
       "│ 2018.0 ┆ 1.0      ┆ 1.000037e6  ┆ 2.8  ┆ … ┆ 3.5   ┆ 3.5    ┆ 7.25 ┆ 4.75     │\n",
       "│ 2018.0 ┆ 1.0      ┆ 1.000038e6  ┆ 4.0  ┆ … ┆ 6.25  ┆ 3.25   ┆ 7.0  ┆ 5.5      │\n",
       "│ …      ┆ …        ┆ …           ┆ …    ┆ … ┆ …     ┆ …      ┆ …    ┆ …        │\n",
       "│ 2024.0 ┆ 64.0     ┆ 6.4006675e7 ┆ 8.2  ┆ … ┆ NaN   ┆ NaN    ┆ NaN  ┆ NaN      │\n",
       "│ 2024.0 ┆ 64.0     ┆ 6.4006673e7 ┆ 4.8  ┆ … ┆ 7.25  ┆ 6.5    ┆ NaN  ┆ 6.875    │\n",
       "│ 2024.0 ┆ 64.0     ┆ 6.4006674e7 ┆ 5.8  ┆ … ┆ NaN   ┆ NaN    ┆ NaN  ┆ NaN      │\n",
       "│ 2024.0 ┆ 64.0     ┆ 6.4006679e7 ┆ 6.0  ┆ … ┆ 6.0   ┆ 5.0    ┆ 7.5  ┆ 6.166667 │\n",
       "│ 2024.0 ┆ 64.0     ┆ 6.4006676e7 ┆ NaN  ┆ … ┆ 7.25  ┆ 6.75   ┆ NaN  ┆ 7.0      │\n",
       "└────────┴──────────┴─────────────┴──────┴───┴───────┴────────┴──────┴──────────┘"
      ]
     },
     "execution_count": 6,
     "metadata": {},
     "output_type": "execute_result"
    }
   ],
   "source": [
    "df = df.fill_null(float('nan'))\n",
    "df"
   ]
  },
  {
   "cell_type": "code",
   "execution_count": 7,
   "metadata": {},
   "outputs": [
    {
     "data": {
      "text/html": [
       "<div><style>\n",
       ".dataframe > thead > tr,\n",
       ".dataframe > tbody > tr {\n",
       "  text-align: right;\n",
       "  white-space: pre-wrap;\n",
       "}\n",
       "</style>\n",
       "<small>shape: (6_762_422, 14)</small><table border=\"1\" class=\"dataframe\"><thead><tr><th>Year</th><th>CityCode</th><th>StudentID</th><th>Toan</th><th>NguVan</th><th>NgoaiNgu</th><th>VatLi</th><th>HoaHoc</th><th>SinhHoc</th><th>KHTN</th><th>DiaLi</th><th>LichSu</th><th>GDCD</th><th>KHXH</th></tr><tr><td>f64</td><td>f64</td><td>f64</td><td>f64</td><td>f64</td><td>f64</td><td>f64</td><td>f64</td><td>f64</td><td>f64</td><td>f64</td><td>f64</td><td>f64</td><td>f64</td></tr></thead><tbody><tr><td>2018.0</td><td>1.0</td><td>1.000033e6</td><td>7.6</td><td>8.25</td><td>7.0</td><td>NaN</td><td>NaN</td><td>NaN</td><td>NaN</td><td>7.25</td><td>4.25</td><td>7.75</td><td>6.42</td></tr><tr><td>2018.0</td><td>1.0</td><td>1.000034e6</td><td>6.2</td><td>6.25</td><td>9.2</td><td>NaN</td><td>NaN</td><td>NaN</td><td>NaN</td><td>7.0</td><td>5.25</td><td>8.5</td><td>6.92</td></tr><tr><td>2018.0</td><td>1.0</td><td>1.000035e6</td><td>6.4</td><td>7.25</td><td>6.6</td><td>NaN</td><td>NaN</td><td>NaN</td><td>NaN</td><td>5.0</td><td>3.75</td><td>7.25</td><td>5.33</td></tr><tr><td>2018.0</td><td>1.0</td><td>1.000037e6</td><td>2.8</td><td>7.0</td><td>4.2</td><td>NaN</td><td>NaN</td><td>NaN</td><td>NaN</td><td>3.5</td><td>3.5</td><td>7.25</td><td>4.75</td></tr><tr><td>2018.0</td><td>1.0</td><td>1.000038e6</td><td>4.0</td><td>6.5</td><td>4.8</td><td>NaN</td><td>NaN</td><td>NaN</td><td>NaN</td><td>6.25</td><td>3.25</td><td>7.0</td><td>5.5</td></tr><tr><td>&hellip;</td><td>&hellip;</td><td>&hellip;</td><td>&hellip;</td><td>&hellip;</td><td>&hellip;</td><td>&hellip;</td><td>&hellip;</td><td>&hellip;</td><td>&hellip;</td><td>&hellip;</td><td>&hellip;</td><td>&hellip;</td><td>&hellip;</td></tr><tr><td>2024.0</td><td>64.0</td><td>6.4006675e7</td><td>8.2</td><td>8.25</td><td>7.0</td><td>9.25</td><td>8.5</td><td>6.0</td><td>7.916667</td><td>NaN</td><td>NaN</td><td>NaN</td><td>NaN</td></tr><tr><td>2024.0</td><td>64.0</td><td>6.4006673e7</td><td>4.8</td><td>7.0</td><td>NaN</td><td>NaN</td><td>NaN</td><td>NaN</td><td>NaN</td><td>7.25</td><td>6.5</td><td>NaN</td><td>6.875</td></tr><tr><td>2024.0</td><td>64.0</td><td>6.4006674e7</td><td>5.8</td><td>8.25</td><td>4.0</td><td>6.75</td><td>5.75</td><td>4.25</td><td>5.583333</td><td>NaN</td><td>NaN</td><td>NaN</td><td>NaN</td></tr><tr><td>2024.0</td><td>64.0</td><td>6.4006679e7</td><td>6.0</td><td>7.08</td><td>4.0</td><td>NaN</td><td>NaN</td><td>NaN</td><td>NaN</td><td>6.0</td><td>5.0</td><td>7.5</td><td>6.166667</td></tr><tr><td>2024.0</td><td>64.0</td><td>6.4006676e7</td><td>NaN</td><td>6.5</td><td>NaN</td><td>NaN</td><td>NaN</td><td>NaN</td><td>NaN</td><td>7.25</td><td>6.75</td><td>NaN</td><td>7.0</td></tr></tbody></table></div>"
      ],
      "text/plain": [
       "shape: (6_762_422, 14)\n",
       "┌────────┬──────────┬─────────────┬──────┬───┬───────┬────────┬──────┬──────────┐\n",
       "│ Year   ┆ CityCode ┆ StudentID   ┆ Toan ┆ … ┆ DiaLi ┆ LichSu ┆ GDCD ┆ KHXH     │\n",
       "│ ---    ┆ ---      ┆ ---         ┆ ---  ┆   ┆ ---   ┆ ---    ┆ ---  ┆ ---      │\n",
       "│ f64    ┆ f64      ┆ f64         ┆ f64  ┆   ┆ f64   ┆ f64    ┆ f64  ┆ f64      │\n",
       "╞════════╪══════════╪═════════════╪══════╪═══╪═══════╪════════╪══════╪══════════╡\n",
       "│ 2018.0 ┆ 1.0      ┆ 1.000033e6  ┆ 7.6  ┆ … ┆ 7.25  ┆ 4.25   ┆ 7.75 ┆ 6.42     │\n",
       "│ 2018.0 ┆ 1.0      ┆ 1.000034e6  ┆ 6.2  ┆ … ┆ 7.0   ┆ 5.25   ┆ 8.5  ┆ 6.92     │\n",
       "│ 2018.0 ┆ 1.0      ┆ 1.000035e6  ┆ 6.4  ┆ … ┆ 5.0   ┆ 3.75   ┆ 7.25 ┆ 5.33     │\n",
       "│ 2018.0 ┆ 1.0      ┆ 1.000037e6  ┆ 2.8  ┆ … ┆ 3.5   ┆ 3.5    ┆ 7.25 ┆ 4.75     │\n",
       "│ 2018.0 ┆ 1.0      ┆ 1.000038e6  ┆ 4.0  ┆ … ┆ 6.25  ┆ 3.25   ┆ 7.0  ┆ 5.5      │\n",
       "│ …      ┆ …        ┆ …           ┆ …    ┆ … ┆ …     ┆ …      ┆ …    ┆ …        │\n",
       "│ 2024.0 ┆ 64.0     ┆ 6.4006675e7 ┆ 8.2  ┆ … ┆ NaN   ┆ NaN    ┆ NaN  ┆ NaN      │\n",
       "│ 2024.0 ┆ 64.0     ┆ 6.4006673e7 ┆ 4.8  ┆ … ┆ 7.25  ┆ 6.5    ┆ NaN  ┆ 6.875    │\n",
       "│ 2024.0 ┆ 64.0     ┆ 6.4006674e7 ┆ 5.8  ┆ … ┆ NaN   ┆ NaN    ┆ NaN  ┆ NaN      │\n",
       "│ 2024.0 ┆ 64.0     ┆ 6.4006679e7 ┆ 6.0  ┆ … ┆ 6.0   ┆ 5.0    ┆ 7.5  ┆ 6.166667 │\n",
       "│ 2024.0 ┆ 64.0     ┆ 6.4006676e7 ┆ NaN  ┆ … ┆ 7.25  ┆ 6.75   ┆ NaN  ┆ 7.0      │\n",
       "└────────┴──────────┴─────────────┴──────┴───┴───────┴────────┴──────┴──────────┘"
      ]
     },
     "execution_count": 7,
     "metadata": {},
     "output_type": "execute_result"
    }
   ],
   "source": [
    "subjects = df.columns[3:]\n",
    "for subject in subjects:\n",
    "    df = df.filter(pl.col(subject) != 0)\n",
    "\n",
    "df"
   ]
  },
  {
   "cell_type": "code",
   "execution_count": 8,
   "metadata": {},
   "outputs": [
    {
     "data": {
      "text/html": [
       "<div><style>\n",
       ".dataframe > thead > tr,\n",
       ".dataframe > tbody > tr {\n",
       "  text-align: right;\n",
       "  white-space: pre-wrap;\n",
       "}\n",
       "</style>\n",
       "<small>shape: (6_595_588, 14)</small><table border=\"1\" class=\"dataframe\"><thead><tr><th>Year</th><th>CityCode</th><th>StudentID</th><th>Toan</th><th>NguVan</th><th>NgoaiNgu</th><th>VatLi</th><th>HoaHoc</th><th>SinhHoc</th><th>KHTN</th><th>DiaLi</th><th>LichSu</th><th>GDCD</th><th>KHXH</th></tr><tr><td>f64</td><td>f64</td><td>f64</td><td>f64</td><td>f64</td><td>f64</td><td>f64</td><td>f64</td><td>f64</td><td>f64</td><td>f64</td><td>f64</td><td>f64</td><td>f64</td></tr></thead><tbody><tr><td>2018.0</td><td>1.0</td><td>1.000033e6</td><td>7.6</td><td>8.25</td><td>7.0</td><td>NaN</td><td>NaN</td><td>NaN</td><td>NaN</td><td>7.25</td><td>4.25</td><td>7.75</td><td>6.42</td></tr><tr><td>2018.0</td><td>1.0</td><td>1.000034e6</td><td>6.2</td><td>6.25</td><td>9.2</td><td>NaN</td><td>NaN</td><td>NaN</td><td>NaN</td><td>7.0</td><td>5.25</td><td>8.5</td><td>6.92</td></tr><tr><td>2018.0</td><td>1.0</td><td>1.000035e6</td><td>6.4</td><td>7.25</td><td>6.6</td><td>NaN</td><td>NaN</td><td>NaN</td><td>NaN</td><td>5.0</td><td>3.75</td><td>7.25</td><td>5.33</td></tr><tr><td>2018.0</td><td>1.0</td><td>1.000037e6</td><td>2.8</td><td>7.0</td><td>4.2</td><td>NaN</td><td>NaN</td><td>NaN</td><td>NaN</td><td>3.5</td><td>3.5</td><td>7.25</td><td>4.75</td></tr><tr><td>2018.0</td><td>1.0</td><td>1.000038e6</td><td>4.0</td><td>6.5</td><td>4.8</td><td>NaN</td><td>NaN</td><td>NaN</td><td>NaN</td><td>6.25</td><td>3.25</td><td>7.0</td><td>5.5</td></tr><tr><td>&hellip;</td><td>&hellip;</td><td>&hellip;</td><td>&hellip;</td><td>&hellip;</td><td>&hellip;</td><td>&hellip;</td><td>&hellip;</td><td>&hellip;</td><td>&hellip;</td><td>&hellip;</td><td>&hellip;</td><td>&hellip;</td><td>&hellip;</td></tr><tr><td>2024.0</td><td>64.0</td><td>6.4006669e7</td><td>3.2</td><td>5.0</td><td>NaN</td><td>NaN</td><td>NaN</td><td>NaN</td><td>NaN</td><td>6.25</td><td>4.25</td><td>NaN</td><td>5.25</td></tr><tr><td>2024.0</td><td>64.0</td><td>6.4006675e7</td><td>8.2</td><td>8.25</td><td>7.0</td><td>9.25</td><td>8.5</td><td>6.0</td><td>7.916667</td><td>NaN</td><td>NaN</td><td>NaN</td><td>NaN</td></tr><tr><td>2024.0</td><td>64.0</td><td>6.4006673e7</td><td>4.8</td><td>7.0</td><td>NaN</td><td>NaN</td><td>NaN</td><td>NaN</td><td>NaN</td><td>7.25</td><td>6.5</td><td>NaN</td><td>6.875</td></tr><tr><td>2024.0</td><td>64.0</td><td>6.4006674e7</td><td>5.8</td><td>8.25</td><td>4.0</td><td>6.75</td><td>5.75</td><td>4.25</td><td>5.583333</td><td>NaN</td><td>NaN</td><td>NaN</td><td>NaN</td></tr><tr><td>2024.0</td><td>64.0</td><td>6.4006679e7</td><td>6.0</td><td>7.08</td><td>4.0</td><td>NaN</td><td>NaN</td><td>NaN</td><td>NaN</td><td>6.0</td><td>5.0</td><td>7.5</td><td>6.166667</td></tr></tbody></table></div>"
      ],
      "text/plain": [
       "shape: (6_595_588, 14)\n",
       "┌────────┬──────────┬─────────────┬──────┬───┬───────┬────────┬──────┬──────────┐\n",
       "│ Year   ┆ CityCode ┆ StudentID   ┆ Toan ┆ … ┆ DiaLi ┆ LichSu ┆ GDCD ┆ KHXH     │\n",
       "│ ---    ┆ ---      ┆ ---         ┆ ---  ┆   ┆ ---   ┆ ---    ┆ ---  ┆ ---      │\n",
       "│ f64    ┆ f64      ┆ f64         ┆ f64  ┆   ┆ f64   ┆ f64    ┆ f64  ┆ f64      │\n",
       "╞════════╪══════════╪═════════════╪══════╪═══╪═══════╪════════╪══════╪══════════╡\n",
       "│ 2018.0 ┆ 1.0      ┆ 1.000033e6  ┆ 7.6  ┆ … ┆ 7.25  ┆ 4.25   ┆ 7.75 ┆ 6.42     │\n",
       "│ 2018.0 ┆ 1.0      ┆ 1.000034e6  ┆ 6.2  ┆ … ┆ 7.0   ┆ 5.25   ┆ 8.5  ┆ 6.92     │\n",
       "│ 2018.0 ┆ 1.0      ┆ 1.000035e6  ┆ 6.4  ┆ … ┆ 5.0   ┆ 3.75   ┆ 7.25 ┆ 5.33     │\n",
       "│ 2018.0 ┆ 1.0      ┆ 1.000037e6  ┆ 2.8  ┆ … ┆ 3.5   ┆ 3.5    ┆ 7.25 ┆ 4.75     │\n",
       "│ 2018.0 ┆ 1.0      ┆ 1.000038e6  ┆ 4.0  ┆ … ┆ 6.25  ┆ 3.25   ┆ 7.0  ┆ 5.5      │\n",
       "│ …      ┆ …        ┆ …           ┆ …    ┆ … ┆ …     ┆ …      ┆ …    ┆ …        │\n",
       "│ 2024.0 ┆ 64.0     ┆ 6.4006669e7 ┆ 3.2  ┆ … ┆ 6.25  ┆ 4.25   ┆ NaN  ┆ 5.25     │\n",
       "│ 2024.0 ┆ 64.0     ┆ 6.4006675e7 ┆ 8.2  ┆ … ┆ NaN   ┆ NaN    ┆ NaN  ┆ NaN      │\n",
       "│ 2024.0 ┆ 64.0     ┆ 6.4006673e7 ┆ 4.8  ┆ … ┆ 7.25  ┆ 6.5    ┆ NaN  ┆ 6.875    │\n",
       "│ 2024.0 ┆ 64.0     ┆ 6.4006674e7 ┆ 5.8  ┆ … ┆ NaN   ┆ NaN    ┆ NaN  ┆ NaN      │\n",
       "│ 2024.0 ┆ 64.0     ┆ 6.4006679e7 ┆ 6.0  ┆ … ┆ 6.0   ┆ 5.0    ┆ 7.5  ┆ 6.166667 │\n",
       "└────────┴──────────┴─────────────┴──────┴───┴───────┴────────┴──────┴──────────┘"
      ]
     },
     "execution_count": 8,
     "metadata": {},
     "output_type": "execute_result"
    }
   ],
   "source": [
    "columns_to_check1 = ['NgoaiNgu', 'VatLi', 'HoaHoc', 'SinhHoc', 'DiaLi', 'LichSu', 'GDCD']\n",
    "columns_to_check2 = ['Toan', 'NguVan']\n",
    "\n",
    "condition1 = pl.reduce(\n",
    "    lambda a, b: a & b,\n",
    "    [pl.col(col).is_nan() for col in columns_to_check1]\n",
    ")\n",
    "\n",
    "condition2 = pl.reduce(\n",
    "    lambda a, b: a | b,\n",
    "    [pl.col(col).is_nan() for col in columns_to_check2]\n",
    ")\n",
    "\n",
    "condition = condition1 | condition2\n",
    "\n",
    "df = df.filter(~condition)\n",
    "\n",
    "df"
   ]
  },
  {
   "cell_type": "code",
   "execution_count": 9,
   "metadata": {},
   "outputs": [
    {
     "data": {
      "text/html": [
       "<div><style>\n",
       ".dataframe > thead > tr,\n",
       ".dataframe > tbody > tr {\n",
       "  text-align: right;\n",
       "  white-space: pre-wrap;\n",
       "}\n",
       "</style>\n",
       "<small>shape: (6_595_588, 14)</small><table border=\"1\" class=\"dataframe\"><thead><tr><th>Year</th><th>CityCode</th><th>StudentID</th><th>Toan</th><th>NguVan</th><th>NgoaiNgu</th><th>VatLi</th><th>HoaHoc</th><th>SinhHoc</th><th>KHTN</th><th>DiaLi</th><th>LichSu</th><th>GDCD</th><th>KHXH</th></tr><tr><td>i64</td><td>i64</td><td>i64</td><td>f64</td><td>f64</td><td>f64</td><td>f64</td><td>f64</td><td>f64</td><td>f64</td><td>f64</td><td>f64</td><td>f64</td><td>f64</td></tr></thead><tbody><tr><td>2018</td><td>1</td><td>1000033</td><td>7.6</td><td>8.25</td><td>7.0</td><td>null</td><td>null</td><td>null</td><td>null</td><td>7.25</td><td>4.25</td><td>7.75</td><td>6.42</td></tr><tr><td>2018</td><td>1</td><td>1000034</td><td>6.2</td><td>6.25</td><td>9.2</td><td>null</td><td>null</td><td>null</td><td>null</td><td>7.0</td><td>5.25</td><td>8.5</td><td>6.92</td></tr><tr><td>2018</td><td>1</td><td>1000035</td><td>6.4</td><td>7.25</td><td>6.6</td><td>null</td><td>null</td><td>null</td><td>null</td><td>5.0</td><td>3.75</td><td>7.25</td><td>5.33</td></tr><tr><td>2018</td><td>1</td><td>1000037</td><td>2.8</td><td>7.0</td><td>4.2</td><td>null</td><td>null</td><td>null</td><td>null</td><td>3.5</td><td>3.5</td><td>7.25</td><td>4.75</td></tr><tr><td>2018</td><td>1</td><td>1000038</td><td>4.0</td><td>6.5</td><td>4.8</td><td>null</td><td>null</td><td>null</td><td>null</td><td>6.25</td><td>3.25</td><td>7.0</td><td>5.5</td></tr><tr><td>&hellip;</td><td>&hellip;</td><td>&hellip;</td><td>&hellip;</td><td>&hellip;</td><td>&hellip;</td><td>&hellip;</td><td>&hellip;</td><td>&hellip;</td><td>&hellip;</td><td>&hellip;</td><td>&hellip;</td><td>&hellip;</td><td>&hellip;</td></tr><tr><td>2024</td><td>64</td><td>64006669</td><td>3.2</td><td>5.0</td><td>null</td><td>null</td><td>null</td><td>null</td><td>null</td><td>6.25</td><td>4.25</td><td>null</td><td>5.25</td></tr><tr><td>2024</td><td>64</td><td>64006675</td><td>8.2</td><td>8.25</td><td>7.0</td><td>9.25</td><td>8.5</td><td>6.0</td><td>7.916667</td><td>null</td><td>null</td><td>null</td><td>null</td></tr><tr><td>2024</td><td>64</td><td>64006673</td><td>4.8</td><td>7.0</td><td>null</td><td>null</td><td>null</td><td>null</td><td>null</td><td>7.25</td><td>6.5</td><td>null</td><td>6.875</td></tr><tr><td>2024</td><td>64</td><td>64006674</td><td>5.8</td><td>8.25</td><td>4.0</td><td>6.75</td><td>5.75</td><td>4.25</td><td>5.583333</td><td>null</td><td>null</td><td>null</td><td>null</td></tr><tr><td>2024</td><td>64</td><td>64006679</td><td>6.0</td><td>7.08</td><td>4.0</td><td>null</td><td>null</td><td>null</td><td>null</td><td>6.0</td><td>5.0</td><td>7.5</td><td>6.166667</td></tr></tbody></table></div>"
      ],
      "text/plain": [
       "shape: (6_595_588, 14)\n",
       "┌──────┬──────────┬───────────┬──────┬───┬───────┬────────┬──────┬──────────┐\n",
       "│ Year ┆ CityCode ┆ StudentID ┆ Toan ┆ … ┆ DiaLi ┆ LichSu ┆ GDCD ┆ KHXH     │\n",
       "│ ---  ┆ ---      ┆ ---       ┆ ---  ┆   ┆ ---   ┆ ---    ┆ ---  ┆ ---      │\n",
       "│ i64  ┆ i64      ┆ i64       ┆ f64  ┆   ┆ f64   ┆ f64    ┆ f64  ┆ f64      │\n",
       "╞══════╪══════════╪═══════════╪══════╪═══╪═══════╪════════╪══════╪══════════╡\n",
       "│ 2018 ┆ 1        ┆ 1000033   ┆ 7.6  ┆ … ┆ 7.25  ┆ 4.25   ┆ 7.75 ┆ 6.42     │\n",
       "│ 2018 ┆ 1        ┆ 1000034   ┆ 6.2  ┆ … ┆ 7.0   ┆ 5.25   ┆ 8.5  ┆ 6.92     │\n",
       "│ 2018 ┆ 1        ┆ 1000035   ┆ 6.4  ┆ … ┆ 5.0   ┆ 3.75   ┆ 7.25 ┆ 5.33     │\n",
       "│ 2018 ┆ 1        ┆ 1000037   ┆ 2.8  ┆ … ┆ 3.5   ┆ 3.5    ┆ 7.25 ┆ 4.75     │\n",
       "│ 2018 ┆ 1        ┆ 1000038   ┆ 4.0  ┆ … ┆ 6.25  ┆ 3.25   ┆ 7.0  ┆ 5.5      │\n",
       "│ …    ┆ …        ┆ …         ┆ …    ┆ … ┆ …     ┆ …      ┆ …    ┆ …        │\n",
       "│ 2024 ┆ 64       ┆ 64006669  ┆ 3.2  ┆ … ┆ 6.25  ┆ 4.25   ┆ null ┆ 5.25     │\n",
       "│ 2024 ┆ 64       ┆ 64006675  ┆ 8.2  ┆ … ┆ null  ┆ null   ┆ null ┆ null     │\n",
       "│ 2024 ┆ 64       ┆ 64006673  ┆ 4.8  ┆ … ┆ 7.25  ┆ 6.5    ┆ null ┆ 6.875    │\n",
       "│ 2024 ┆ 64       ┆ 64006674  ┆ 5.8  ┆ … ┆ null  ┆ null   ┆ null ┆ null     │\n",
       "│ 2024 ┆ 64       ┆ 64006679  ┆ 6.0  ┆ … ┆ 6.0   ┆ 5.0    ┆ 7.5  ┆ 6.166667 │\n",
       "└──────┴──────────┴───────────┴──────┴───┴───────┴────────┴──────┴──────────┘"
      ]
     },
     "execution_count": 9,
     "metadata": {},
     "output_type": "execute_result"
    }
   ],
   "source": [
    "df = process_dtype(df)\n",
    "\n",
    "for col in df.columns[3:]:\n",
    "    df = df.with_columns(pl.col(col).replace(np.nan, None))\n",
    "\n",
    "df"
   ]
  },
  {
   "cell_type": "code",
   "execution_count": 14,
   "metadata": {},
   "outputs": [
    {
     "name": "stdout",
     "output_type": "stream",
     "text": [
      "2.7 s ± 320 ms per loop (mean ± std. dev. of 5 runs, 1 loop each)\n"
     ]
    }
   ],
   "source": [
    "%%timeit -n 1 -r 5\n",
    "df.write_csv('data/preprocessed/thpt_total.csv')"
   ]
  }
 ],
 "metadata": {
  "kernelspec": {
   "display_name": "dev",
   "language": "python",
   "name": "python3"
  },
  "language_info": {
   "codemirror_mode": {
    "name": "ipython",
    "version": 3
   },
   "file_extension": ".py",
   "mimetype": "text/x-python",
   "name": "python",
   "nbconvert_exporter": "python",
   "pygments_lexer": "ipython3",
   "version": "3.11.9"
  }
 },
 "nbformat": 4,
 "nbformat_minor": 2
}
